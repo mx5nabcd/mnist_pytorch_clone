{
  "nbformat": 4,
  "nbformat_minor": 0,
  "metadata": {
    "colab": {
      "provenance": [],
      "authorship_tag": "ABX9TyPblrnUxoJZlt3SFh5B2JQi",
      "include_colab_link": true
    },
    "kernelspec": {
      "name": "python3",
      "display_name": "Python 3"
    },
    "language_info": {
      "name": "python"
    }
  },
  "cells": [
    {
      "cell_type": "markdown",
      "metadata": {
        "id": "view-in-github",
        "colab_type": "text"
      },
      "source": [
        "<a href=\"https://colab.research.google.com/github/mx5nabcd/mnist_clone/blob/main/mnist_clone.ipynb\" target=\"_parent\"><img src=\"https://colab.research.google.com/assets/colab-badge.svg\" alt=\"Open In Colab\"/></a>"
      ]
    },
    {
      "cell_type": "code",
      "execution_count": 1,
      "metadata": {
        "id": "ENrGvGS7xNLa"
      },
      "outputs": [],
      "source": [
        "# 클론 코딩은 아래의 링크에서 12번 박스부터 참고함\n",
        "# https://www.kaggle.com/code/kanncaa1/pytorch-tutorial-for-deep-learning-lovers"
      ]
    },
    {
      "cell_type": "code",
      "source": [
        "from google.colab import drive\n",
        "drive.mount('/content/drive')"
      ],
      "metadata": {
        "colab": {
          "base_uri": "https://localhost:8080/"
        },
        "id": "h3XqYOp-zA2i",
        "outputId": "9ec5bb8d-e68f-4d86-e974-65f419804d22"
      },
      "execution_count": 2,
      "outputs": [
        {
          "output_type": "stream",
          "name": "stdout",
          "text": [
            "Mounted at /content/drive\n"
          ]
        }
      ]
    },
    {
      "cell_type": "code",
      "source": [
        "import numpy as np\n",
        "import pandas as pd\n",
        "import matplotlib.pyplot as plt\n",
        "import torch\n",
        "import torch.nn as nn\n",
        "from torch.autograd import Variable\n",
        "from torch.utils.data import DataLoader\n",
        "from sklearn.model_selection import train_test_split"
      ],
      "metadata": {
        "id": "luzZlIiuywll"
      },
      "execution_count": 3,
      "outputs": []
    },
    {
      "cell_type": "code",
      "source": [
        "# Prepare Dataset\n",
        "# load data\n",
        "train = pd.read_csv('/content/drive/MyDrive/colab_data/mnist/train.csv',dtype=np.float32)\n",
        "\n",
        "# split data into features(pixels) and labels(numbers from 0 to 9)\n",
        "targets_numpy = train.label.values\n",
        "features_numpy = train.loc[:,train.columns != 'label'].values/255 # normalization\n",
        "\n",
        "# train test split. Size of train data is 80% and size of test data is 20%.\n",
        "features_train, features_test, targets_train, targets_test = train_test_split(features_numpy,targets_numpy,test_size=0.2,random_state=42)\n",
        "\n",
        "# create feature and targets tensor for train set. As you remember we need variable to accumulate gradients. Therefore first we create tensor, then we will create variable\n",
        "featuresTrain = torch.from_numpy(features_train)\n",
        "targetsTrain = torch.from_numpy(targets_train).type(torch.LongTensor) # data type is long\n",
        "\n",
        "# create feature and targets tensor for test set.\n",
        "featuresTest = torch.from_numpy(features_test)\n",
        "targetsTest = torch.from_numpy(targets_test).type(torch.LongTensor) # data type is long\n",
        "\n",
        "# batch_size, epoch and iteration\n",
        "batch_size = 100\n",
        "n_iters = 10000\n",
        "num_epochs = n_iters / (len(features_train) / batch_size)\n",
        "num_epochs = int(num_epochs)\n",
        "\n",
        "# Pytorch train and test sets\n",
        "train = torch.utils.data.TensorDataset(featuresTrain,targetsTrain)\n",
        "test = torch.utils.data.TensorDataset(featuresTest,targetsTest)\n",
        "\n",
        "# data loader\n",
        "train_loader = DataLoader(train, batch_size = batch_size, shuffle = False)\n",
        "test_loader = DataLoader(test, batch_size = batch_size, shuffle = False)\n",
        "\n",
        "# visualize one of the images in data set\n",
        "plt.imshow(features_numpy[10].reshape(28,28))\n",
        "plt.axis('off')\n",
        "plt.title(str(targets_numpy[10]))\n",
        "plt.savefig('graph.png')\n",
        "plt.show()"
      ],
      "metadata": {
        "colab": {
          "base_uri": "https://localhost:8080/",
          "height": 264
        },
        "id": "D1ZTdsM-y76B",
        "outputId": "5357d23b-12d4-41c6-d707-8a08a3302b36"
      },
      "execution_count": 4,
      "outputs": [
        {
          "output_type": "display_data",
          "data": {
            "text/plain": [
              "<Figure size 432x288 with 1 Axes>"
            ],
            "image/png": "[encoded data removed]"
          },
          "metadata": {
            "needs_background": "light"
          }
        }
      ]
    },
    {
      "cell_type": "code",
      "source": [
        "# Create Logistic Regression Model\n",
        "class LogisticRegressionModel(nn.Module):\n",
        "  def __init__(self, input_dim, output_dim):\n",
        "    super(LogisticRegressionModel, self).__init__()\n",
        "    # Linear part\n",
        "    self.linear = nn.Linear(input_dim, output_dim)\n",
        "    # There should be logistic function right?\n",
        "    # However logistic function in pytorch is in loss function\n",
        "    # So actually we do not forget to put it, it is only at next parts\n",
        "\n",
        "  def forward(self, x):\n",
        "      out = self.linear(x)\n",
        "      return out\n",
        "\n",
        "# Instantiate Model Class\n",
        "input_dim = 28*28 # size of image px*px\n",
        "output_dim = 10 # labels 0,1,2,3,4,5,6,7,8,9\n",
        "\n",
        "# create logistic regression model\n",
        "model = LogisticRegressionModel(input_dim, output_dim)\n",
        "\n",
        "# Cross Entropy Loss\n",
        "error = nn.CrossEntropyLoss()\n",
        "\n",
        "# SGD Optimizer\n",
        "learning_rate = 0.001\n",
        "optimizer = torch.optim.SGD(model.parameters(), lr=learning_rate)"
      ],
      "metadata": {
        "id": "iTDO-7KM2y6x"
      },
      "execution_count": 5,
      "outputs": []
    },
    {
      "cell_type": "code",
      "source": [
        "# Training the Model\n",
        "count = 0\n",
        "loss_list = []\n",
        "iteration_list = []\n",
        "for epoch in range(num_epochs):\n",
        "  for i, (images, labels) in enumerate(train_loader):\n",
        "\n",
        "    # Define variables\n",
        "    train = Variable(images.view(-1, 28*28))\n",
        "    labels = Variable(labels)\n",
        "\n",
        "    # Clear gradients\n",
        "    optimizer.zero_grad()\n",
        "\n",
        "    # Forward propagation\n",
        "    outputs = model(train)\n",
        "\n",
        "    # Calculate softmax and cross entropy loss\n",
        "    loss = error(outputs, labels)\n",
        "\n",
        "    # Calculate gradients\n",
        "    loss.backward()\n",
        "\n",
        "    # Update parameters\n",
        "    optimizer.step()\n",
        "\n",
        "    count += 1\n",
        "\n",
        "    # Prediction\n",
        "    if count % 50 == 0:\n",
        "      # Calculate Accuracy\n",
        "      correct = 0\n",
        "      total = 0\n",
        "      # Predict test dataset\n",
        "      for images, labels in test_loader:\n",
        "        test = Variable(images.view(-1, 28*28))\n",
        "\n",
        "        # Forward propagation\n",
        "        outputs = model(test)\n",
        "\n",
        "        # Get predictions from the maximum value\n",
        "        predicted = torch.max(outputs.data, 1)[1]\n",
        "\n",
        "        # Total number of labels\n",
        "        total += len(labels)\n",
        "\n",
        "        # Total correct predictions\n",
        "        correct += (predicted == labels).sum()\n",
        "\n",
        "      accuracy = 100 * correct / float(total)\n",
        "\n",
        "      # store loss and iteration\n",
        "      loss_list.append(loss.data)\n",
        "      iteration_list.append(count)\n",
        "    if count % 500 == 0:\n",
        "      # Print Loss\n",
        "      print('Iteration: {} Loss: {} Accuracy: {}%'.format(count, loss.data, accuracy))"
      ],
      "metadata": {
        "colab": {
          "base_uri": "https://localhost:8080/"
        },
        "id": "bUIwsaLl4dyU",
        "outputId": "605ca139-4b46-475c-82ec-06abf3ed4fd8"
      },
      "execution_count": 6,
      "outputs": [
        {
          "output_type": "stream",
          "name": "stdout",
          "text": [
            "Iteration: 500 Loss: 1.8176922798156738 Accuracy: 68.41666412353516%\n",
            "Iteration: 1000 Loss: 1.6137919425964355 Accuracy: 76.08333587646484%\n",
            "Iteration: 1500 Loss: 1.2909035682678223 Accuracy: 78.75%\n",
            "Iteration: 2000 Loss: 1.1764464378356934 Accuracy: 80.26190185546875%\n",
            "Iteration: 2500 Loss: 1.0301604270935059 Accuracy: 81.19047546386719%\n",
            "Iteration: 3000 Loss: 0.9208705425262451 Accuracy: 82.0%\n",
            "Iteration: 3500 Loss: 0.9003790020942688 Accuracy: 82.64286041259766%\n",
            "Iteration: 4000 Loss: 0.7465366125106812 Accuracy: 83.10713958740234%\n",
            "Iteration: 4500 Loss: 0.9553777575492859 Accuracy: 83.5%\n",
            "Iteration: 5000 Loss: 0.792208731174469 Accuracy: 83.92857360839844%\n",
            "Iteration: 5500 Loss: 0.7414605021476746 Accuracy: 84.26190185546875%\n",
            "Iteration: 6000 Loss: 0.8603529334068298 Accuracy: 84.67857360839844%\n",
            "Iteration: 6500 Loss: 0.6582455635070801 Accuracy: 84.77381134033203%\n",
            "Iteration: 7000 Loss: 0.7093465924263 Accuracy: 85.03571319580078%\n",
            "Iteration: 7500 Loss: 0.6367447972297668 Accuracy: 85.19047546386719%\n",
            "Iteration: 8000 Loss: 0.7429385185241699 Accuracy: 85.4047622680664%\n",
            "Iteration: 8500 Loss: 0.5401580333709717 Accuracy: 85.52381134033203%\n",
            "Iteration: 9000 Loss: 0.658913254737854 Accuracy: 85.66666412353516%\n",
            "Iteration: 9500 Loss: 0.5211277604103088 Accuracy: 85.72618865966797%\n"
          ]
        }
      ]
    },
    {
      "cell_type": "code",
      "source": [
        "# visualization\n",
        "plt.plot(iteration_list,loss_list)\n",
        "plt.xlabel('Number of iteration')\n",
        "plt.ylabel('Loss')\n",
        "plt.title('Logistic Regression: Loss vs Number of iteration')\n",
        "plt.show()"
      ],
      "metadata": {
        "colab": {
          "base_uri": "https://localhost:8080/",
          "height": 295
        },
        "id": "CTZEnWP-7HwG",
        "outputId": "79a94e87-4d6b-4c5c-cf18-93bcf86d15a1"
      },
      "execution_count": 7,
      "outputs": [
        {
          "output_type": "display_data",
          "data": {
            "text/plain": [
              "<Figure size 432x288 with 1 Axes>"
            ],
            "image/png": "[encoded data removed]"
          },
          "metadata": {
            "needs_background": "light"
          }
        }
      ]
    },
    {
      "cell_type": "code",
      "source": [
        "# Create ANN Model\n",
        "class ANNModel(nn.Module):\n",
        "\n",
        "  def __init__(self, input_dim, hidden_dim, output_dim):\n",
        "    super(ANNModel, self).__init__()\n",
        "\n",
        "    # Linear function 1: 784 --> 150\n",
        "    self.fc1 = nn.Linear(input_dim, hidden_dim)\n",
        "    # Non-linearity 1\n",
        "    self.relu1 = nn.ReLU()\n",
        "\n",
        "    # Linear function 2: 150 --> 150\n",
        "    self.fc2 = nn.Linear(hidden_dim, hidden_dim)\n",
        "    # Non-linearity 2\n",
        "    self.tanh2 = nn.Tanh()\n",
        "\n",
        "    # Linear function 3: 150 --> 150\n",
        "    self.fc3 = nn.Linear(hidden_dim, hidden_dim)\n",
        "    # Non-linearity 3\n",
        "    self.elu3 = nn.ELU()\n",
        "\n",
        "    # Linear function 4 (readout): 150 --> 10\n",
        "    self.fc4 = nn.Linear(hidden_dim, output_dim)\n",
        "\n",
        "  def forward(self, x):\n",
        "    # Linear function 1\n",
        "    out = self.fc1(x)\n",
        "    # Non-linearity 1\n",
        "    out = self.relu1(out)\n",
        "\n",
        "    # Linear function 2\n",
        "    out = self.fc2(out)\n",
        "    # Non-linearity\n",
        "    out = self.tanh2(out)\n",
        "\n",
        "    # Linear function 3\n",
        "    out = self.fc3(out)\n",
        "    # Non-linearity 3\n",
        "    out = self.elu3(out)\n",
        "\n",
        "    # Linear function 4 (readout)\n",
        "    out = self.fc4(out)\n",
        "    return out\n",
        "\n",
        "# instantiate ANN\n",
        "input_dim = 28*28\n",
        "hidden_dim = 150 #hidden layer dim is one of the hyper parameter and it should be chosen and tuned. For now I only say 150 there is no reason.\n",
        "output_dim = 10\n",
        "\n",
        "# Create ANN\n",
        "model = ANNModel(input_dim, hidden_dim, output_dim)\n",
        "\n",
        "# SGD Optimizer\n",
        "learning_rate = 0.02\n",
        "optimizer = torch.optim.SGD(model.parameters(), lr=learning_rate)"
      ],
      "metadata": {
        "id": "h-BfeE0lpNZf"
      },
      "execution_count": 8,
      "outputs": []
    },
    {
      "cell_type": "code",
      "source": [
        "# ANN model training\n",
        "count = 0\n",
        "loss_list = []\n",
        "iteration_list = []\n",
        "accuracy_list = []\n",
        "for epoch in range(num_epochs):\n",
        "  for i, (images, labels) in enumerate(train_loader):\n",
        "\n",
        "    train = Variable(images.view(-1, 28*28))\n",
        "    labels = Variable(labels)\n",
        "\n",
        "    # Clear gradients\n",
        "    optimizer.zero_grad()\n",
        "    \n",
        "    # Forward propagation\n",
        "    outputs = model(train)\n",
        "\n",
        "    # Calculate softmax and ross entropy loss\n",
        "    loss = error(outputs, labels)\n",
        "\n",
        "    # Calculating gradients\n",
        "    loss.backward()\n",
        "\n",
        "    # Update parameters\n",
        "    optimizer.step()\n",
        "\n",
        "    count += 1\n",
        "\n",
        "    if count % 50 == 0:\n",
        "      # Calculate Accuracy\n",
        "      correct = 0\n",
        "      total = 0\n",
        "      # Predict test dataset\n",
        "      for images, labels in test_loader:\n",
        "\n",
        "        test = Variable(images.view(-1, 28*28))\n",
        "\n",
        "        # Forward propagation\n",
        "        outputs = model(test)\n",
        "\n",
        "        # Get predictions from the maximum value\n",
        "        predicted = torch.max(outputs.data, 1)[1]\n",
        "\n",
        "        # Total number of labels\n",
        "        total += len(labels)\n",
        "\n",
        "        # Total correct predictions\n",
        "        correct += (predicted == labels).sum()\n",
        "\n",
        "      accuracy = 100 * correct / float(total)\n",
        "\n",
        "      # store loss and iteration\n",
        "      loss_list.append(loss.data)\n",
        "      iteration_list.append(count)\n",
        "      accuracy_list.append(accuracy)\n",
        "    if count % 500 == 0:\n",
        "      # Pinrt Loss\n",
        "      print('Iteration: {} Loss: {}  Accuracy: {} %'.format(count, loss.data, accuracy))"
      ],
      "metadata": {
        "colab": {
          "base_uri": "https://localhost:8080/"
        },
        "id": "EVISg5VS0hwC",
        "outputId": "35381ee0-eb59-4113-c59b-446fe11b5d0b"
      },
      "execution_count": 9,
      "outputs": [
        {
          "output_type": "stream",
          "name": "stdout",
          "text": [
            "Iteration: 500 Loss: 0.8583665490150452  Accuracy: 78.58333587646484 %\n",
            "Iteration: 1000 Loss: 0.48465287685394287  Accuracy: 87.19047546386719 %\n",
            "Iteration: 1500 Loss: 0.2453337460756302  Accuracy: 89.51190185546875 %\n",
            "Iteration: 2000 Loss: 0.3012908101081848  Accuracy: 90.54762268066406 %\n",
            "Iteration: 2500 Loss: 0.29667508602142334  Accuracy: 91.95237731933594 %\n",
            "Iteration: 3000 Loss: 0.12613125145435333  Accuracy: 92.75 %\n",
            "Iteration: 3500 Loss: 0.2423906773328781  Accuracy: 93.30952453613281 %\n",
            "Iteration: 4000 Loss: 0.0672111064195633  Accuracy: 93.95237731933594 %\n",
            "Iteration: 4500 Loss: 0.32318127155303955  Accuracy: 94.13095092773438 %\n",
            "Iteration: 5000 Loss: 0.11300482600927353  Accuracy: 94.78571319580078 %\n",
            "Iteration: 5500 Loss: 0.19699721038341522  Accuracy: 94.86904907226562 %\n",
            "Iteration: 6000 Loss: 0.20913037657737732  Accuracy: 95.16666412353516 %\n",
            "Iteration: 6500 Loss: 0.10218542069196701  Accuracy: 95.32142639160156 %\n",
            "Iteration: 7000 Loss: 0.12920419871807098  Accuracy: 95.6547622680664 %\n",
            "Iteration: 7500 Loss: 0.10263378918170929  Accuracy: 95.79762268066406 %\n",
            "Iteration: 8000 Loss: 0.18715408444404602  Accuracy: 95.72618865966797 %\n",
            "Iteration: 8500 Loss: 0.05341675132513046  Accuracy: 96.0952377319336 %\n",
            "Iteration: 9000 Loss: 0.05622144043445587  Accuracy: 96.11904907226562 %\n",
            "Iteration: 9500 Loss: 0.025279326364398003  Accuracy: 96.3452377319336 %\n"
          ]
        }
      ]
    },
    {
      "cell_type": "code",
      "source": [
        "# visualization loss\n",
        "plt.plot(iteration_list, loss_list)\n",
        "plt.xlabel(\"Number of iteration\")\n",
        "plt.ylabel(\"Loss\")\n",
        "plt.title(\"ANN: Loss vs Number of iteration\")\n",
        "plt.show()\n",
        "\n",
        "# visualization accuracy\n",
        "plt.plot(iteration_list, accuracy_list, color = \"red\")\n",
        "plt.xlabel(\"Number of iteration\")\n",
        "plt.ylabel(\"Accuracy\")\n",
        "plt.title(\"ANN: Accuracy vs Number of iteration\")\n",
        "plt.show()"
      ],
      "metadata": {
        "colab": {
          "base_uri": "https://localhost:8080/",
          "height": 573
        },
        "id": "viaSGs-t6Blx",
        "outputId": "b043d021-57b5-4523-b4f3-9488a52fea80"
      },
      "execution_count": 10,
      "outputs": [
        {
          "output_type": "display_data",
          "data": {
            "text/plain": [
              "<Figure size 432x288 with 1 Axes>"
            ],
            "image/png": "[encoded data removed]"
          },
          "metadata": {
            "needs_background": "light"
          }
        },
        {
          "output_type": "display_data",
          "data": {
            "text/plain": [
              "<Figure size 432x288 with 1 Axes>"
            ],
            "image/png": "[encoded data removed]"
          },
          "metadata": {
            "needs_background": "light"
          }
        }
      ]
    },
    {
      "cell_type": "code",
      "source": [
        "# Create CNN Model\n",
        "class CNNModel(nn.Module):\n",
        "    def __init__(self):\n",
        "        super(CNNModel, self).__init__()\n",
        "        \n",
        "        # Convolution 1\n",
        "        self.cnn1 = nn.Conv2d(in_channels=1, out_channels=16, kernel_size=5, stride=1, padding=0)\n",
        "        self.relu1 = nn.ReLU()\n",
        "        \n",
        "        # Max pool 1\n",
        "        self.maxpool1 = nn.MaxPool2d(kernel_size=2)\n",
        "     \n",
        "        # Convolution 2\n",
        "        self.cnn2 = nn.Conv2d(in_channels=16, out_channels=32, kernel_size=5, stride=1, padding=0)\n",
        "        self.relu2 = nn.ReLU()\n",
        "        \n",
        "        # Max pool 2\n",
        "        self.maxpool2 = nn.MaxPool2d(kernel_size=2)\n",
        "        \n",
        "        # Fully connected 1\n",
        "        self.fc1 = nn.Linear(32 * 4 * 4, 10) \n",
        "    \n",
        "    def forward(self, x):\n",
        "        # Convolution 1\n",
        "        out = self.cnn1(x)\n",
        "        out = self.relu1(out)\n",
        "        \n",
        "        # Max pool 1\n",
        "        out = self.maxpool1(out)\n",
        "        \n",
        "        # Convolution 2 \n",
        "        out = self.cnn2(out)\n",
        "        out = self.relu2(out)\n",
        "        \n",
        "        # Max pool 2 \n",
        "        out = self.maxpool2(out)\n",
        "        \n",
        "        # flatten\n",
        "        out = out.view(out.size(0), -1)\n",
        "\n",
        "        # Linear function (readout)\n",
        "        out = self.fc1(out)\n",
        "        \n",
        "        return out\n",
        "\n",
        "# batch_size, epoch and iteration\n",
        "batch_size = 100\n",
        "n_iters = 2500\n",
        "num_epochs = n_iters / (len(features_train) / batch_size)\n",
        "num_epochs = int(num_epochs)\n",
        "\n",
        "# Pytorch train and test sets\n",
        "train = torch.utils.data.TensorDataset(featuresTrain,targetsTrain)\n",
        "test = torch.utils.data.TensorDataset(featuresTest,targetsTest)\n",
        "\n",
        "# data loader\n",
        "train_loader = torch.utils.data.DataLoader(train, batch_size = batch_size, shuffle = False)\n",
        "test_loader = torch.utils.data.DataLoader(test, batch_size = batch_size, shuffle = False)\n",
        "    \n",
        "# Create CNN\n",
        "model = CNNModel()\n",
        "\n",
        "# Cross Entropy Loss \n",
        "error = nn.CrossEntropyLoss()\n",
        "\n",
        "# SGD Optimizer\n",
        "learning_rate = 0.1\n",
        "optimizer = torch.optim.SGD(model.parameters(), lr=learning_rate)"
      ],
      "metadata": {
        "id": "0gjjGbiM6x8n"
      },
      "execution_count": 18,
      "outputs": []
    },
    {
      "cell_type": "code",
      "source": [
        "# CNN model training\n",
        "count = 0\n",
        "loss_list = []\n",
        "iteration_list = []\n",
        "accuracy_list = []\n",
        "for epoch in range(num_epochs):\n",
        "    for i, (images, labels) in enumerate(train_loader):\n",
        "        \n",
        "        train = Variable(images.view(100,1,28,28))\n",
        "        labels = Variable(labels)\n",
        "        \n",
        "        # Clear gradients\n",
        "        optimizer.zero_grad()\n",
        "        \n",
        "        # Forward propagation\n",
        "        outputs = model(train)\n",
        "        \n",
        "        # Calculate softmax and ross entropy loss\n",
        "        loss = error(outputs, labels)\n",
        "        \n",
        "        # Calculating gradients\n",
        "        loss.backward()\n",
        "        \n",
        "        # Update parameters\n",
        "        optimizer.step()\n",
        "        \n",
        "        count += 1\n",
        "        \n",
        "        if count % 50 == 0:\n",
        "            # Calculate Accuracy         \n",
        "            correct = 0\n",
        "            total = 0\n",
        "            # Iterate through test dataset\n",
        "            for images, labels in test_loader:\n",
        "                \n",
        "                test = Variable(images.view(100,1,28,28))\n",
        "                \n",
        "                # Forward propagation\n",
        "                outputs = model(test)\n",
        "                \n",
        "                # Get predictions from the maximum value\n",
        "                predicted = torch.max(outputs.data, 1)[1]\n",
        "                \n",
        "                # Total number of labels\n",
        "                total += len(labels)\n",
        "                \n",
        "                correct += (predicted == labels).sum()\n",
        "            \n",
        "            accuracy = 100 * correct / float(total)\n",
        "            \n",
        "            # store loss and iteration\n",
        "            loss_list.append(loss.data)\n",
        "            iteration_list.append(count)\n",
        "            accuracy_list.append(accuracy)\n",
        "        if count % 500 == 0:\n",
        "            # Print Loss\n",
        "            print('Iteration: {}  Loss: {}  Accuracy: {} %'.format(count, loss.data, accuracy))"
      ],
      "metadata": {
        "colab": {
          "base_uri": "https://localhost:8080/"
        },
        "id": "b3ASsNc0EiZE",
        "outputId": "6e5b7007-caab-4978-ea47-664d44f4bbbf"
      },
      "execution_count": 19,
      "outputs": [
        {
          "output_type": "stream",
          "name": "stdout",
          "text": [
            "Iteration: 500  Loss: 0.09273944050073624  Accuracy: 96.70237731933594 %\n",
            "Iteration: 1000  Loss: 0.051182545721530914  Accuracy: 97.5952377319336 %\n",
            "Iteration: 1500  Loss: 0.03445664793252945  Accuracy: 97.80952453613281 %\n",
            "Iteration: 2000  Loss: 0.01540201436728239  Accuracy: 98.20237731933594 %\n"
          ]
        }
      ]
    },
    {
      "cell_type": "code",
      "source": [],
      "metadata": {
        "id": "ydXk-ZNxFDhb"
      },
      "execution_count": null,
      "outputs": []
    }
  ]
}