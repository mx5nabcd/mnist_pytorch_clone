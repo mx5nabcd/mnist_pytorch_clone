{
  "nbformat": 4,
  "nbformat_minor": 0,
  "metadata": {
    "colab": {
      "provenance": [],
      "authorship_tag": "ABX9TyMbIb1ScuJpVbDoTlxPaBNe",
      "include_colab_link": true
    },
    "kernelspec": {
      "name": "python3",
      "display_name": "Python 3"
    },
    "language_info": {
      "name": "python"
    }
  },
  "cells": [
    {
      "cell_type": "markdown",
      "metadata": {
        "id": "view-in-github",
        "colab_type": "text"
      },
      "source": [
        "<a href=\"https://colab.research.google.com/github/mx5nabcd/mnist_clone/blob/main/mnist_clone.ipynb\" target=\"_parent\"><img src=\"https://colab.research.google.com/assets/colab-badge.svg\" alt=\"Open In Colab\"/></a>"
      ]
    },
    {
      "cell_type": "code",
      "execution_count": 1,
      "metadata": {
        "id": "ENrGvGS7xNLa"
      },
      "outputs": [],
      "source": [
        "# 클론 코딩은 아래의 링크에서 12번 박스부터 참고함\n",
        "# https://www.kaggle.com/code/kanncaa1/pytorch-tutorial-for-deep-learning-lovers"
      ]
    },
    {
      "cell_type": "code",
      "source": [
        "from google.colab import drive\n",
        "drive.mount('/content/drive')"
      ],
      "metadata": {
        "colab": {
          "base_uri": "https://localhost:8080/"
        },
        "id": "h3XqYOp-zA2i",
        "outputId": "056d64db-6f97-4229-802f-8b35bb35c5de"
      },
      "execution_count": 2,
      "outputs": [
        {
          "output_type": "stream",
          "name": "stdout",
          "text": [
            "Mounted at /content/drive\n"
          ]
        }
      ]
    },
    {
      "cell_type": "code",
      "source": [
        "import numpy as np\n",
        "import pandas as pd\n",
        "import matplotlib.pyplot as plt\n",
        "import torch\n",
        "import torch.nn as nn\n",
        "from torch.autograd import Variable\n",
        "from torch.utils.data import DataLoader\n",
        "from sklearn.model_selection import train_test_split"
      ],
      "metadata": {
        "id": "luzZlIiuywll"
      },
      "execution_count": 3,
      "outputs": []
    },
    {
      "cell_type": "code",
      "source": [
        "# Prepare Dataset\n",
        "# load data\n",
        "train = pd.read_csv('/content/drive/MyDrive/colab_data/mnist/train.csv',dtype=np.float32)\n",
        "\n",
        "# split data into features(pixels) and labels(numbers from 0 to 9)\n",
        "targets_numpy = train.label.values\n",
        "features_numpy = train.loc[:,train.columns != 'label'].values/255 # normalization\n",
        "\n",
        "# train test split. Size of train data is 80% and size of test data is 20%.\n",
        "features_train, features_test, targets_train, targets_test = train_test_split(features_numpy,targets_numpy,test_size=0.2,random_state=42)\n",
        "\n",
        "# create feature and targets tensor for train set. As you remember we need variable to accumulate gradients. Therefore first we create tensor, then we will create variable\n",
        "featuresTrain = torch.from_numpy(features_train)\n",
        "targetsTrain = torch.from_numpy(targets_train).type(torch.LongTensor) # data type is long\n",
        "\n",
        "# create feature and targets tensor for test set.\n",
        "featuresTest = torch.from_numpy(features_test)\n",
        "targetsTest = torch.from_numpy(targets_test).type(torch.LongTensor) # data type is long\n",
        "\n",
        "# batch_size, epoch and iteration\n",
        "batch_size = 100\n",
        "n_iters = 10000\n",
        "num_epochs = n_iters / (len(features_train) / batch_size)\n",
        "num_epochs = int(num_epochs)\n",
        "\n",
        "# Pytorch train and test sets\n",
        "train = torch.utils.data.TensorDataset(featuresTrain,targetsTrain)\n",
        "test = torch.utils.data.TensorDataset(featuresTest,targetsTest)\n",
        "\n",
        "# data loader\n",
        "train_loader = DataLoader(train, batch_size = batch_size, shuffle = False)\n",
        "test_loader = DataLoader(test, batch_size = batch_size, shuffle = False)\n",
        "\n",
        "# visualize one of the images in data set\n",
        "plt.imshow(features_numpy[10].reshape(28,28))\n",
        "plt.axis('off')\n",
        "plt.title(str(targets_numpy[10]))\n",
        "plt.savefig('graph.png')\n",
        "plt.show()"
      ],
      "metadata": {
        "colab": {
          "base_uri": "https://localhost:8080/",
          "height": 264
        },
        "id": "D1ZTdsM-y76B",
        "outputId": "417d0227-2e9b-4102-e360-27041c597ec1"
      },
      "execution_count": 4,
      "outputs": [
        {
          "output_type": "display_data",
          "data": {
            "text/plain": [
              "<Figure size 432x288 with 1 Axes>"
            ],
            "image/png": "[encoded data removed]"
          },
          "metadata": {
            "needs_background": "light"
          }
        }
      ]
    },
    {
      "cell_type": "code",
      "source": [
        "# Create Logistic Regression Model\n",
        "class LogisticRegressionModel(nn.Module):\n",
        "  def __init__(self, input_dim, output_dim):\n",
        "    super(LogisticRegressionModel, self).__init__()\n",
        "    # Linear part\n",
        "    self.linear = nn.Linear(input_dim, output_dim)\n",
        "    # There should be logistic function right?\n",
        "    # However logistic function in pytorch is in loss function\n",
        "    # So actually we do not forget to put it, it is only at next parts\n",
        "\n",
        "  def forward(self, x):\n",
        "      out = self.linear(x)\n",
        "      return out\n",
        "\n",
        "# Instantiate Model Class\n",
        "input_dim = 28*28 # size of image px*px\n",
        "output_dim = 10 # labels 0,1,2,3,4,5,6,7,8,9\n",
        "\n",
        "# create logistic regression model\n",
        "model = LogisticRegressionModel(input_dim, output_dim)\n",
        "\n",
        "# Cross Entropy Loss\n",
        "error = nn.CrossEntropyLoss()\n",
        "\n",
        "# SGD Optimizer\n",
        "learning_rate = 0.001\n",
        "optimizer = torch.optim.SGD(model.parameters(), lr=learning_rate)"
      ],
      "metadata": {
        "id": "iTDO-7KM2y6x"
      },
      "execution_count": 5,
      "outputs": []
    },
    {
      "cell_type": "code",
      "source": [
        "# Training the Model\n",
        "count = 0\n",
        "loss_list = []\n",
        "iteration_list = []\n",
        "for epoch in range(num_epochs):\n",
        "  for i, (images, labels) in enumerate(train_loader):\n",
        "\n",
        "    # Define variables\n",
        "    train = Variable(images.view(-1, 28*28))\n",
        "    labels = Variable(labels)\n",
        "\n",
        "    # Clear gradients\n",
        "    optimizer.zero_grad()\n",
        "\n",
        "    # Forward propagation\n",
        "    outputs = model(train)\n",
        "\n",
        "    # Calculate softmax and cross entropy loss\n",
        "    loss = error(outputs, labels)\n",
        "\n",
        "    # Calculate gradients\n",
        "    loss.backward()\n",
        "\n",
        "    # Update parameters\n",
        "    optimizer.step()\n",
        "\n",
        "    count += 1\n",
        "\n",
        "    # Prediction\n",
        "    if count % 50 == 0:\n",
        "      # Calculate Accuracy\n",
        "      correct = 0\n",
        "      total = 0\n",
        "      # Predict test dataset\n",
        "      for images, labels in test_loader:\n",
        "        test = Variable(images.view(-1, 28*28))\n",
        "\n",
        "        # Forward propagation\n",
        "        outputs = model(test)\n",
        "\n",
        "        # Get predictions from the maximum value\n",
        "        predicted = torch.max(outputs.data, 1)[1]\n",
        "\n",
        "        # Total number of labels\n",
        "        total += len(labels)\n",
        "\n",
        "        # Total correct predictions\n",
        "        correct += (predicted == labels).sum()\n",
        "\n",
        "      accuracy = 100 * correct / float(total)\n",
        "\n",
        "      # store loss and iteration\n",
        "      loss_list.append(loss.data)\n",
        "      iteration_list.append(count)\n",
        "    if count % 500 == 0:\n",
        "      # Print Loss\n",
        "      print('Iteration: {} Loss: {} Accuracy: {}%'.format(count, loss.data, accuracy))"
      ],
      "metadata": {
        "colab": {
          "base_uri": "https://localhost:8080/"
        },
        "id": "bUIwsaLl4dyU",
        "outputId": "fe7541e6-ff16-4c0a-8e4e-32603628d3cb"
      },
      "execution_count": 6,
      "outputs": [
        {
          "output_type": "stream",
          "name": "stdout",
          "text": [
            "Iteration: 500 Loss: 1.8062570095062256 Accuracy: 67.21428680419922%\n",
            "Iteration: 1000 Loss: 1.5843273401260376 Accuracy: 74.89286041259766%\n",
            "Iteration: 1500 Loss: 1.2909547090530396 Accuracy: 77.79762268066406%\n",
            "Iteration: 2000 Loss: 1.1914066076278687 Accuracy: 79.52381134033203%\n",
            "Iteration: 2500 Loss: 1.0308167934417725 Accuracy: 80.86904907226562%\n",
            "Iteration: 3000 Loss: 0.9386048316955566 Accuracy: 81.6547622680664%\n",
            "Iteration: 3500 Loss: 0.8913328051567078 Accuracy: 82.42857360839844%\n",
            "Iteration: 4000 Loss: 0.7448657155036926 Accuracy: 83.01190185546875%\n",
            "Iteration: 4500 Loss: 0.9619789123535156 Accuracy: 83.61904907226562%\n",
            "Iteration: 5000 Loss: 0.8022863268852234 Accuracy: 83.94047546386719%\n",
            "Iteration: 5500 Loss: 0.7576097249984741 Accuracy: 84.22618865966797%\n",
            "Iteration: 6000 Loss: 0.8722103238105774 Accuracy: 84.47618865966797%\n",
            "Iteration: 6500 Loss: 0.6668936014175415 Accuracy: 84.66666412353516%\n",
            "Iteration: 7000 Loss: 0.7110538482666016 Accuracy: 84.88095092773438%\n",
            "Iteration: 7500 Loss: 0.6306310296058655 Accuracy: 85.07142639160156%\n",
            "Iteration: 8000 Loss: 0.7432441711425781 Accuracy: 85.29762268066406%\n",
            "Iteration: 8500 Loss: 0.544634222984314 Accuracy: 85.45237731933594%\n",
            "Iteration: 9000 Loss: 0.6640581488609314 Accuracy: 85.57142639160156%\n",
            "Iteration: 9500 Loss: 0.526435911655426 Accuracy: 85.70237731933594%\n"
          ]
        }
      ]
    },
    {
      "cell_type": "code",
      "source": [
        "# visualization\n",
        "plt.plot(iteration_list,loss_list)\n",
        "plt.xlabel('Number of iteration')\n",
        "plt.ylabel('Loss')\n",
        "plt.title('Logistic Regression: Loss vs Number of iteration')\n",
        "plt.show()"
      ],
      "metadata": {
        "colab": {
          "base_uri": "https://localhost:8080/",
          "height": 295
        },
        "id": "CTZEnWP-7HwG",
        "outputId": "e89c01fb-9718-4ab1-8c07-976dc1f66baa"
      },
      "execution_count": 7,
      "outputs": [
        {
          "output_type": "display_data",
          "data": {
            "text/plain": [
              "<Figure size 432x288 with 1 Axes>"
            ],
            "image/png": "[encoded data removed]"
          },
          "metadata": {
            "needs_background": "light"
          }
        }
      ]
    },
    {
      "cell_type": "code",
      "source": [
        "# Create ANN Model\n",
        "class ANNModel(nn.Module):\n",
        "\n",
        "  def __init__(self, input_dim, hidden_dim, output_dim):\n",
        "    super(ANNModel, self).__init__()\n",
        "\n",
        "    # Linear function 1: 784 --> 150\n",
        "    self.fc1 = nn.Linear(input_dim, hidden_dim)\n",
        "    # Non-linearity 1\n",
        "    self.relu1 = nn.ReLU()\n",
        "\n",
        "    # Linear function 2: 150 --> 150\n",
        "    self.fc2 = nn.Linear(hidden_dim, hidden_dim)\n",
        "    # Non-linearity 2\n",
        "    self.tanh2 = nn.Tanh()\n",
        "\n",
        "    # Linear function 3: 150 --> 150\n",
        "    self.fc3 = nn.Linear(hidden_dim, hidden_dim)\n",
        "    # Non-linearity 3\n",
        "    self.elu3 = nn.ELU()\n",
        "\n",
        "    # Linear function 4 (readout): 150 --"
      ],
      "metadata": {
        "id": "h-BfeE0lpNZf"
      },
      "execution_count": null,
      "outputs": []
    }
  ]
}